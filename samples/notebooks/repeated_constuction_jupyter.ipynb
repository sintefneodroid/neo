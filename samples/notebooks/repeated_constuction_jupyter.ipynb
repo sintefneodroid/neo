{
 "cells": [
  {
   "cell_type": "code",
   "execution_count": 10,
   "metadata": {
    "collapsed": true,
    "pycharm": {
     "is_executing": false,
     "name": "#%%\n"
    }
   },
   "outputs": [
    {
     "name": "stdout",
     "text": [
      "0\n1\n2\n",
      "3\n4\n5\n",
      "6\n7\n8\n",
      "9\n10\n11\n",
      "12\n13\n",
      "14\n15\n16\n",
      "17\n18\n19\n",
      "20\n21\n22\n",
      "23\n24\n25\n",
      "26\n27\n",
      "28\n29\n30\n",
      "31\n32\n",
      "33\n34\n",
      "35\n36\n37\n",
      "38\n39\n40\n",
      "41\n42\n43\n",
      "44\n45\n46\n",
      "47\n48\n49\n",
      "50\n51\n",
      "52\n53\n",
      "54\n55\n56\n",
      "57\n58\n59\n",
      "60\n61\n62\n",
      "63\n64\n65\n",
      "66\n67\n68\n",
      "69\n70\n71\n",
      "72\n73\n74\n",
      "75\n76\n77\n",
      "78\n79\n",
      "80\n81\n",
      "82\n83\n",
      "84\n85\n",
      "86\n87\n",
      "88\n89\n",
      "90\n91\n92\n",
      "93\n94\n95\n",
      "96\n97\n98\n",
      "99\n"
     ],
     "output_type": "stream"
    }
   ],
   "source": [
    "#!/usr/bin/env python3\n",
    "# -*- coding: utf-8 -*-\n",
    "\n",
    "__author__ = \"cnheider\"\n",
    "__doc__ = \"\"\n",
    "\n",
    "import neodroid"
   ]
  },
  {
   "cell_type": "code",
   "execution_count": null,
   "outputs": [],
   "source": [
    "# Testing repeated construction of neodroid interface in notebooks"
   ],
   "metadata": {
    "collapsed": false,
    "pycharm": {
     "name": "#%% Markdown\n"
    }
   }
  },
  {
   "cell_type": "code",
   "execution_count": null,
   "outputs": [],
   "source": [
    "for i in range(100):\n",
    "    with neodroid.connect() as env:\n",
    "        print(i)\n",
    "        env.react()"
   ],
   "metadata": {
    "collapsed": false,
    "pycharm": {
     "name": "#%%\n"
    }
   }
  },
  {
   "cell_type": "code",
   "execution_count": 13,
   "outputs": [
    {
     "name": "stdout",
     "text": [
      "0\n1\n2\n",
      "3\n4\n5\n",
      "6\n7\n8\n",
      "9\n10\n11\n",
      "12\n13\n14\n",
      "15\n16\n17\n",
      "18\n19\n20\n",
      "21\n22\n23\n",
      "24\n25\n26\n",
      "27\n28\n29\n",
      "30\n31\n",
      "32\n33\n",
      "34\n35\n36\n",
      "37\n38\n39\n",
      "40\n41\n42\n",
      "43\n44\n45\n",
      "46\n47\n",
      "48\n49\n50\n",
      "51\n52\n",
      "53\n54\n55\n",
      "56\n57\n58\n",
      "59\n60\n61\n",
      "62\n63\n64\n",
      "65\n66\n67\n",
      "68\n69\n70\n",
      "71\n72\n",
      "73\n74\n75\n",
      "76\n77\n78\n",
      "79\n80\n81\n",
      "82\n83\n84\n",
      "85\n86\n87\n",
      "88\n89\n",
      "90\n",
      "91\n92\n",
      "93\n94\n",
      "95\n96\n97\n",
      "98\n99\n"
     ],
     "output_type": "stream"
    }
   ],
   "source": [
    "for i in range(100):\n",
    "    with neodroid.connect() as env:\n",
    "        print(i)\n",
    "        env.react()"
   ],
   "metadata": {
    "collapsed": false,
    "pycharm": {
     "name": "#%%\n",
     "is_executing": false
    }
   }
  }
 ],
 "metadata": {
  "language_info": {
   "codemirror_mode": {
    "name": "ipython",
    "version": 2
   },
   "file_extension": ".py",
   "mimetype": "text/x-python",
   "name": "python",
   "nbconvert_exporter": "python",
   "pygments_lexer": "ipython2",
   "version": "2.7.6"
  },
  "kernelspec": {
   "name": "python3",
   "language": "python",
   "display_name": "Python 3"
  },
  "pycharm": {
   "stem_cell": {
    "cell_type": "raw",
    "source": [],
    "metadata": {
     "collapsed": false
    }
   }
  }
 },
 "nbformat": 4,
 "nbformat_minor": 0
}